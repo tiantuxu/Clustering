{
 "cells": [
  {
   "cell_type": "code",
   "execution_count": 1,
   "metadata": {},
   "outputs": [],
   "source": [
    "import sys, os\n",
    "import pandas as pd\n",
    "import numpy as np\n",
    "import scipy\n",
    "from scipy import stats\n",
    "from scipy.stats import ttest_ind_from_stats\n",
    "from scipy.spatial import distance\n",
    "import random\n",
    "import matplotlib\n",
    "#matplotlib.use('Agg')\n",
    "import matplotlib.pyplot as plt\n",
    "np.random.seed(0)"
   ]
  },
  {
   "cell_type": "code",
   "execution_count": 2,
   "metadata": {},
   "outputs": [],
   "source": [
    "sys.argv[1] = 'digits-embedding.csv'\n",
    "sys.argv[2] = 10\n",
    "\n",
    "data = pd.read_csv(sys.argv[1], header=None)\n",
    "K = int(sys.argv[2])"
   ]
  },
  {
   "cell_type": "code",
   "execution_count": 3,
   "metadata": {},
   "outputs": [],
   "source": [
    "N = len(data)\n",
    "centroid_idx = np.random.randint(0, N, size=K)\n",
    "# print 'N:', N"
   ]
  },
  {
   "cell_type": "code",
   "execution_count": 4,
   "metadata": {},
   "outputs": [],
   "source": [
    "# Initial the centroid\n",
    "centroid = []\n",
    "for i in centroid_idx:\n",
    "    centroid.append((data.loc[i][2], data.loc[i][3]))"
   ]
  },
  {
   "cell_type": "code",
   "execution_count": 5,
   "metadata": {},
   "outputs": [],
   "source": [
    "# print centroid\n",
    "label = [0 for i in range(len(data))]\n",
    "count = 0\n",
    "while True:\n",
    "    update = 0\n",
    "    x = [0.0 for i in range(K)]\n",
    "    y = [0.0 for i in range(K)]\n",
    "    label_count = [0 for i in range(K)]\n",
    "    for index, row in data.iterrows():\n",
    "        coor = (row[2], row[3])\n",
    "        candidate_label = []\n",
    "        for c in centroid:\n",
    "            candidate_label.append(distance.euclidean(coor, c))\n",
    "        # Get the label of the current point\n",
    "        l = candidate_label.index(min(candidate_label))\n",
    "        x[l] += row[2]\n",
    "        y[l] += row[3]\n",
    "        label_count[l] += 1\n",
    "        \n",
    "        # Check if there's an update in each round\n",
    "        if l != label[index]:\n",
    "            label[index] = l\n",
    "            update += 1\n",
    "            \n",
    "    count += 1\n",
    "    \n",
    "    if count == 50 or update == 0:\n",
    "        break\n",
    "    \n",
    "    # Update the centroid if they does not meet the stop criterion\n",
    "    for i in range(len(centroid)):\n",
    "        centroid[i] = (1.0 * x[i]/label_count[i], 1.0 * y[i]/label_count[i])\n",
    "    \n",
    "    # print count, update"
   ]
  },
  {
   "cell_type": "code",
   "execution_count": 6,
   "metadata": {},
   "outputs": [],
   "source": [
    "WC_SSD = 0\n",
    "S = []\n",
    "P = [[0 for i in range(K)] for j in range(10)]\n",
    "H_C = [0 for i in range(K)]\n",
    "H_G = [0 for i in range(10)]\n",
    "d = data.iloc[:,2:4]\n",
    "data_matrix = np.array(d)"
   ]
  },
  {
   "cell_type": "code",
   "execution_count": 7,
   "metadata": {},
   "outputs": [
    {
     "name": "stdout",
     "output_type": "stream",
     "text": [
      "WC_SSD: 1433531.47\n",
      "SC: 0.71\n"
     ]
    }
   ],
   "source": [
    "for index, row in data.iterrows():\n",
    "    #print index\n",
    "    # Update the WC_SSD\n",
    "    WC_SSD += np.square(distance.euclidean((row[2], row[3]), centroid[label[index]]))\n",
    "    # Update the SC\n",
    "    idx = [i for i in range(N) if label[i] == label[index]]\n",
    "    #print idx\n",
    "    SC_A = np.sum(np.sqrt(np.sum(np.square(data_matrix[idx,:] - data_matrix[index,:]), axis = 1)))\n",
    "    SC_B = np.sum(np.sqrt(np.sum(np.square(data_matrix - data_matrix[index,:]), axis = 1))) - SC_A\n",
    "    SC_A /= len(idx) - 1\n",
    "    SC_B /= N - len(idx)\n",
    "    S.append((SC_B-SC_A)/max(SC_A, SC_B))\n",
    "    \n",
    "    # Update the information matrix\n",
    "    P[label[index]][int(row[1])] += 1\n",
    "    H_C[label[index]] += 1\n",
    "    H_G[int(row[1])] += 1\n",
    "SC = np.sum(S)/len(S)\n",
    "print 'WC_SSD:', '%.2f' % WC_SSD\n",
    "print 'SC:', '%.2f' % SC"
   ]
  },
  {
   "cell_type": "code",
   "execution_count": 8,
   "metadata": {},
   "outputs": [
    {
     "name": "stdout",
     "output_type": "stream",
     "text": [
      "NMI: 0.36\n"
     ]
    }
   ],
   "source": [
    "# Get the NMI\n",
    "H_C_Entropy = 0\n",
    "H_G_Entropy = 0\n",
    "MI = 0\n",
    "# print H_C, H_G\n",
    "for i in range(K):\n",
    "    H_C_Entropy -= (1.0 * H_C[i]/N) * np.log(1.0 * H_C[i]/N)\n",
    "for i in range(10):\n",
    "    H_G_Entropy -= (1.0 * H_G[i]/N) * np.log(1.0 * H_G[i]/N)\n",
    "for i in range(K):\n",
    "    for j in range(10):\n",
    "        if P[i][j] != 0:\n",
    "            MI += (1.0 * P[i][j]) * np.log(1.0 * N * P[i][j]/(H_C[i] * H_G[j])) / N\n",
    "NMI = MI/(H_C_Entropy + H_G_Entropy)\n",
    "print 'NMI:', '%.2f' % NMI"
   ]
  },
  {
   "cell_type": "code",
   "execution_count": null,
   "metadata": {},
   "outputs": [],
   "source": []
  }
 ],
 "metadata": {
  "kernelspec": {
   "display_name": "Python 2",
   "language": "python",
   "name": "python2"
  },
  "language_info": {
   "codemirror_mode": {
    "name": "ipython",
    "version": 2
   },
   "file_extension": ".py",
   "mimetype": "text/x-python",
   "name": "python",
   "nbconvert_exporter": "python",
   "pygments_lexer": "ipython2",
   "version": "2.7.12"
  }
 },
 "nbformat": 4,
 "nbformat_minor": 2
}
