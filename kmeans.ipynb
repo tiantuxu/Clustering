{
 "cells": [
  {
   "cell_type": "code",
   "execution_count": 1,
   "metadata": {},
   "outputs": [],
   "source": [
    "import sys, os\n",
    "import pandas as pd\n",
    "import numpy as np\n",
    "import scipy\n",
    "from scipy import stats\n",
    "from scipy.stats import ttest_ind_from_stats\n",
    "from scipy.spatial import distance\n",
    "import random\n",
    "import matplotlib\n",
    "#matplotlib.use('Agg')\n",
    "import matplotlib.pyplot as plt\n",
    "np.random.seed(0)"
   ]
  },
  {
   "cell_type": "code",
   "execution_count": 2,
   "metadata": {},
   "outputs": [],
   "source": [
    "sys.argv[1] = 'digits-embedding.csv'\n",
    "sys.argv[2] = 10\n",
    "\n",
    "data = pd.read_csv(sys.argv[1], header=None)\n",
    "K = int(sys.argv[2])"
   ]
  },
  {
   "cell_type": "code",
   "execution_count": 9,
   "metadata": {},
   "outputs": [
    {
     "name": "stdout",
     "output_type": "stream",
     "text": [
      "N: 20000\n"
     ]
    }
   ],
   "source": [
    "N = len(data)\n",
    "centroid_idx = np.random.randint(0, N, size=K)\n",
    "print 'N:', N"
   ]
  },
  {
   "cell_type": "code",
   "execution_count": 10,
   "metadata": {},
   "outputs": [],
   "source": [
    "# Initial the centroid\n",
    "centroid = []\n",
    "for i in centroid_idx:\n",
    "    centroid.append((data.loc[i][2], data.loc[i][3]))"
   ]
  },
  {
   "cell_type": "code",
   "execution_count": 11,
   "metadata": {},
   "outputs": [
    {
     "name": "stdout",
     "output_type": "stream",
     "text": [
      "1 18707\n",
      "2 4201\n",
      "3 2665\n",
      "4 1833\n",
      "5 1404\n",
      "6 1349\n",
      "7 1190\n",
      "8 1246\n",
      "9 1332\n",
      "10 1060\n",
      "11 758\n",
      "12 502\n",
      "13 336\n",
      "14 225\n",
      "15 191\n",
      "16 192\n",
      "17 150\n",
      "18 88\n",
      "19 61\n",
      "20 53\n",
      "21 41\n",
      "22 40\n",
      "23 26\n",
      "24 27\n",
      "25 36\n",
      "26 36\n",
      "27 37\n",
      "28 37\n",
      "29 31\n",
      "30 41\n",
      "31 43\n",
      "32 37\n",
      "33 26\n",
      "34 21\n",
      "35 23\n",
      "36 11\n",
      "37 6\n",
      "38 5\n",
      "39 3\n",
      "40 4\n",
      "41 8\n",
      "42 7\n",
      "43 3\n",
      "44 3\n",
      "45 6\n"
     ]
    }
   ],
   "source": [
    "# print centroid\n",
    "label = [0 for i in range(len(data))]\n",
    "count = 0\n",
    "while True:\n",
    "    update = 0\n",
    "    x = [0.0 for i in range(K)]\n",
    "    y = [0.0 for i in range(K)]\n",
    "    label_count = [0 for i in range(K)]\n",
    "    for index, row in data.iterrows():\n",
    "        coor = (row[2], row[3])\n",
    "        candidate_label = []\n",
    "        for c in centroid:\n",
    "            candidate_label.append(distance.euclidean(coor, c))\n",
    "        # Get the label of the current point\n",
    "        l = candidate_label.index(min(candidate_label))\n",
    "        x[l] += row[2]\n",
    "        y[l] += row[3]\n",
    "        label_count[l] += 1\n",
    "        \n",
    "        # Check if there's an update in each round\n",
    "        if l != label[index]:\n",
    "            label[index] = l\n",
    "            update += 1\n",
    "            \n",
    "    count += 1\n",
    "    \n",
    "    if count == 50 or update == 0:\n",
    "        break\n",
    "    \n",
    "    # Update the centroid if they does not meet the stop criterion\n",
    "    for i in range(len(centroid)):\n",
    "        centroid[i] = (1.0 * x[i]/label_count[i], 1.0 * y[i]/label_count[i])\n",
    "    \n",
    "    print count, update"
   ]
  },
  {
   "cell_type": "code",
   "execution_count": 12,
   "metadata": {},
   "outputs": [
    {
     "ename": "SyntaxError",
     "evalue": "invalid syntax (<ipython-input-12-d490f88f52bc>, line 11)",
     "output_type": "error",
     "traceback": [
      "\u001b[0;36m  File \u001b[0;32m\"<ipython-input-12-d490f88f52bc>\"\u001b[0;36m, line \u001b[0;32m11\u001b[0m\n\u001b[0;31m    A = [0 for i in range(N) if (row[1] == label[i]) else 1]\u001b[0m\n\u001b[0m                                                        ^\u001b[0m\n\u001b[0;31mSyntaxError\u001b[0m\u001b[0;31m:\u001b[0m invalid syntax\n"
     ]
    }
   ],
   "source": [
    "WC_SSD = 0\n",
    "S = []\n",
    "P = [[0 for i in range(K)] for j in range(10)]\n",
    "H_C = [0 for i in range(K)]\n",
    "H_G = [0 for i in range(10)]\n",
    "\n",
    "for index, row in data.iterrows():\n",
    "    print index\n",
    "    # Update the WC_SSD\n",
    "    WC_SSD += distance.euclidean((row[2], row[3]), centroid[label[index]])\n",
    "    A = [0 for i in range(N) if (row[1] == label[i]) else 1]\n",
    "    B = [0 for i in range(N) if (row[1] != label[i]) else 1]\n",
    "#     for i, r in data.iterrows():\n",
    "#         if i != index and label[i] == label[index]:\n",
    "    #A[i] = distance.euclidean((row[2], row[3]), (r[2], r[3]))\n",
    "#         elif i != index and label[i] != label[index]:\n",
    "    #B[i] = distance.euclidean((row[2], row[3]), (r[2], r[3]))\n",
    "    \n",
    "    # Update the information matrix\n",
    "    P[label[index]][int(row[1])] += 1\n",
    "    H_C[label[index]] += 1\n",
    "    H_G[int(row[1])] += 1\n",
    "    \n",
    "    SC_A = 1.0 * np.sum(A)/np.count_nonzero(A)\n",
    "    SC_B = 1.0 * np.sum(B)/np.count_nonzero(A)\n",
    "    \n",
    "    S.append((SC_B-SC_A)/max(SC_A, SC_B))\n",
    "\n",
    "print 'WC_SSD:', WC_SSD\n",
    "print 'SC:', sum(S)/len(S)"
   ]
  },
  {
   "cell_type": "code",
   "execution_count": null,
   "metadata": {},
   "outputs": [],
   "source": [
    "# Get the NMI\n",
    "H_C_Entropy = 0\n",
    "H_G_Entropy = 0\n",
    "MI = 0\n",
    "for i in range(K):\n",
    "    H_C_Entropy -= (1.0 * H_C[i]/N) * np.log(1.0 * H_C[i]/N)\n",
    "for i in range(10):\n",
    "    H_G_Entropy -= (1.0 * H_G[i]/N) * np.log(1.0 * H_G[i]/N)\n",
    "for i in range(K):\n",
    "    for j in range(10):\n",
    "        if P[i][j] != 0:\n",
    "            MI += (1.0 * p[i][j]/N) * np.log(N * P[i][j]/(H_C[i] * H_G[i]))\n",
    "print 'NMI:', MI"
   ]
  }
 ],
 "metadata": {
  "kernelspec": {
   "display_name": "Python 2",
   "language": "python",
   "name": "python2"
  },
  "language_info": {
   "codemirror_mode": {
    "name": "ipython",
    "version": 2
   },
   "file_extension": ".py",
   "mimetype": "text/x-python",
   "name": "python",
   "nbconvert_exporter": "python",
   "pygments_lexer": "ipython2",
   "version": "2.7.12"
  }
 },
 "nbformat": 4,
 "nbformat_minor": 2
}
